{
 "cells": [
  {
   "cell_type": "markdown",
   "metadata": {},
   "source": [
    "# Drainage stability\n",
    "\n",
    "When simulating, the head may cross the elevation of the tile drains or ground surface. When this happens de drainage resistance changes from `infinity` to `c_drain` when the head rises or from `c_drain` to `infinity` when the head is descending.\n",
    "To deal with this in a managed fashion, when this happens during a time step, the moment at which this occurs is computed and the head is simulated up to the point at which it touches the drain elevation. At that point, the resistance is changed and the simulation is resumed until the end of the timestep is reached. The idea is that this yields a stable simulation, without sawtoothing.\n",
    "\n",
    "The implementation, however, stills shows sawtoothing after the head hits the drainage level. This workbook tries to find out why this unexpected behavior occurs and seeks a way to prevent it.\n",
    "\n",
    "@TO 2020-09-16"
   ]
  },
  {
   "cell_type": "markdown",
   "metadata": {},
   "source": [
    "The governing partial differential equation\n",
    "\n",
    "$$kD\\frac{d^{2}h}{dx^{2}}\t=-N+\\frac{h-\\phi}{c}+\\frac{h-z_{dr}}{c_{dr}}$$\n",
    "\n",
    "is equivalent to \n",
    "\n",
    "$$kD\\frac{d^{2}h}{dx^{2}}=-N+\\frac{h-\\hat{\\phi}}{\\hat{c}}$$\n",
    "\n",
    "with\n",
    "\n",
    "$$\\hat{c}=\\frac{c_{dr}c}{c_{dr}+c}$$\n",
    "\n",
    "and\n",
    "\n",
    "$$\\hat{\\phi}=\\frac{c_{dr}\\phi+cz_{dr}}{c_{dr}+c}$$"
   ]
  },
  {
   "cell_type": "markdown",
   "metadata": {},
   "source": [
    "Therefore, the solution for the transient approach followd in GGOR is\n",
    "\n",
    "$$\\overline{h}-\\widehat{\\phi}=\\left(\\overline{h}_{0}-\\widehat{\\phi}\\right)e^{-\\frac{t-t_{0}}{\\widehat{T}}}+\\left\\{ N\\widehat{c}-\\widehat{\\Lambda}\\left[N\\widehat{c}-\\left(h_{LR}-\\widehat{\\phi}\\right)\\right]\\right\\} \\left(1-e^{-\\frac{t-t_{0}}{\\widehat{T}}}\\right)$$\n",
    "\n",
    "with\n",
    "\n",
    "$$\\widehat{T}=\\mu\\widehat{c}$$\n",
    "\n",
    "and\n",
    "\n",
    "$$\\widehat{\\Lambda}=\\frac{1}{\\frac{b}{\\widehat{\\lambda}}\\mbox{ctanh}\\frac{b}{\\widehat{\\lambda}}+\\frac{b/\\widehat{c}}{D/w}}$$"
   ]
  },
  {
   "cell_type": "code",
   "execution_count": 10,
   "metadata": {},
   "outputs": [],
   "source": [
    "import matplotlib.pyplot as plt\n",
    "import numpy as np"
   ]
  },
  {
   "cell_type": "code",
   "execution_count": 20,
   "metadata": {},
   "outputs": [],
   "source": [
    "# parameters\n",
    "N, E, q = 0.002, 0., 0.001\n",
    "h0, phi, hLR = 0., 0.5, 0.5\n",
    "b, mu, k, D, c, cdr, zdr, w = 75., 0.15, 10., 10., 150, 5, 1.0, 1.0\n",
    "\n",
    "h = h0\n",
    "\n",
    "ch = cdr * c / (cdr + c)\n",
    "phih = (cdr * phi + c * zdr) / (cdr + c)\n",
    "Th = mu * ch\n",
    "lamh = np.sqrt(k * D * ch)\n",
    "Lamh = 1 / (b / lamh / np.tanh(b / lamh)  + b / ch / (D / w))\n",
    "B = N * ch - (N * ch - (hLR - phih)) * Lamh"
   ]
  },
  {
   "cell_type": "code",
   "execution_count": 21,
   "metadata": {},
   "outputs": [
    {
     "name": "stdout",
     "output_type": "stream",
     "text": [
      "tau = nan\n",
      "rising = True\n"
     ]
    },
    {
     "name": "stderr",
     "output_type": "stream",
     "text": [
      "/Users/Theo/opt/anaconda3/lib/python3.7/site-packages/ipykernel_launcher.py:1: RuntimeWarning: invalid value encountered in log\n",
      "  \"\"\"Entry point for launching an IPython kernel.\n"
     ]
    }
   ],
   "source": [
    "tau = Th * np.log((h0 - phih - B) / (zdr - phih - B))\n",
    "print('tau = {}'.format(tau))\n",
    "\n",
    "rising = ((phih - h) + (N * ch - (N * ch - (hLR - phih)) * Lamh)) > 0\n",
    "print('rising = {}'.format(rising))\n"
   ]
  },
  {
   "cell_type": "code",
   "execution_count": 22,
   "metadata": {},
   "outputs": [
    {
     "name": "stderr",
     "output_type": "stream",
     "text": [
      "/Users/Theo/opt/anaconda3/lib/python3.7/site-packages/ipykernel_launcher.py:1: RuntimeWarning: invalid value encountered in log\n",
      "  \"\"\"Entry point for launching an IPython kernel.\n"
     ]
    },
    {
     "data": {
      "text/plain": [
       "nan"
      ]
     },
     "execution_count": 22,
     "metadata": {},
     "output_type": "execute_result"
    }
   ],
   "source": [
    "np.log((h0 - phih - B) / (zdr - phih - B))"
   ]
  },
  {
   "cell_type": "code",
   "execution_count": 30,
   "metadata": {},
   "outputs": [
    {
     "data": {
      "text/plain": [
       "-8.450276944629513"
      ]
     },
     "execution_count": 30,
     "metadata": {},
     "output_type": "execute_result"
    }
   ],
   "source": [
    "(h0 - phih - B) / (zdr - phih - B)"
   ]
  },
  {
   "cell_type": "code",
   "execution_count": 36,
   "metadata": {},
   "outputs": [
    {
     "data": {
      "text/plain": [
       "750000000.0"
      ]
     },
     "execution_count": 36,
     "metadata": {},
     "output_type": "execute_result"
    }
   ],
   "source": [
    "cdr = 0.0000000000000001\n",
    "kD = 100\n",
    "ch = c * cdr / (c + cdr)\n",
    "lamh = np.sqrt(kD * ch)\n",
    "b / lamh / np.tanh(b / lamh)"
   ]
  },
  {
   "cell_type": "code",
   "execution_count": null,
   "metadata": {},
   "outputs": [],
   "source": []
  }
 ],
 "metadata": {
  "kernelspec": {
   "display_name": "Python 3",
   "language": "python",
   "name": "python3"
  },
  "language_info": {
   "codemirror_mode": {
    "name": "ipython",
    "version": 3
   },
   "file_extension": ".py",
   "mimetype": "text/x-python",
   "name": "python",
   "nbconvert_exporter": "python",
   "pygments_lexer": "ipython3",
   "version": "3.7.5"
  }
 },
 "nbformat": 4,
 "nbformat_minor": 4
}
