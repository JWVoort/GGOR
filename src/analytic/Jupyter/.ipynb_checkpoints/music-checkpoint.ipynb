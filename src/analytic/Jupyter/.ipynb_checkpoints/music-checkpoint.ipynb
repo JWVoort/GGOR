{
 "cells": [
  {
   "cell_type": "markdown",
   "metadata": {},
   "source": [
    "# Music for nerds book (see ~/Theo/personal/music)"
   ]
  },
  {
   "cell_type": "code",
   "execution_count": 1,
   "metadata": {},
   "outputs": [],
   "source": [
    "def mod12(n):\n",
    "    return n % 12"
   ]
  },
  {
   "cell_type": "code",
   "execution_count": 3,
   "metadata": {},
   "outputs": [],
   "source": [
    "def note_name(number):\n",
    "    notes = \"C C# D D# E F F# G G# A A# B\".split()\n",
    "    return notes[mod12(number)]"
   ]
  },
  {
   "cell_type": "code",
   "execution_count": 18,
   "metadata": {},
   "outputs": [],
   "source": [
    "def accidentials(note_str):\n",
    "    acc = len(note_str[1:])\n",
    "    if '#' in note_str:\n",
    "        return acc\n",
    "    elif 'b' in note_str:\n",
    "        return -acc\n",
    "    else:\n",
    "        return 0"
   ]
  },
  {
   "cell_type": "code",
   "execution_count": 19,
   "metadata": {},
   "outputs": [],
   "source": [
    "def name_to_number(note_str):\n",
    "    notes = 'C . D . E F . G . A . B'.split()\n",
    "    name = note_str[:1].upper()\n",
    "    number = notes.index(name)\n",
    "    acc = accidentials(note_str)\n",
    "    return mod12(number + acc)    "
   ]
  },
  {
   "cell_type": "code",
   "execution_count": 32,
   "metadata": {},
   "outputs": [
    {
     "data": {
      "text/plain": [
       "'D#'"
      ]
     },
     "execution_count": 32,
     "metadata": {},
     "output_type": "execute_result"
    }
   ],
   "source": [
    "note_name(name_to_number('F'))"
   ]
  },
  {
   "cell_type": "code",
   "execution_count": 33,
   "metadata": {},
   "outputs": [
    {
     "data": {
      "text/plain": [
       "(5, 2)"
      ]
     },
     "execution_count": 33,
     "metadata": {},
     "output_type": "execute_result"
    }
   ],
   "source": [
    "divmod(62,12)"
   ]
  },
  {
   "cell_type": "code",
   "execution_count": 37,
   "metadata": {},
   "outputs": [
    {
     "data": {
      "text/plain": [
       "1.3333333333333333"
      ]
     },
     "execution_count": 37,
     "metadata": {},
     "output_type": "execute_result"
    }
   ],
   "source": [
    "def note_duration(note_value, unity, tempo):\n",
    "    '''Return not_duration in seconds\n",
    "    \n",
    "    parameters\n",
    "    ----------\n",
    "        note_value: fraction or int\n",
    "            1/4 for quarter note etc.\n",
    "        unity: int\n",
    "            note value of the tempo\n",
    "        tempo: int\n",
    "            number of note values of the tempo per minute\n",
    "            \n",
    "    >>note_duration(1/2, 1/4, 60)\n",
    "    1.0\n",
    "    '''\n",
    "    return (60 * note_value)  / (tempo * unity)"
   ]
  },
  {
   "cell_type": "code",
   "execution_count": 36,
   "metadata": {},
   "outputs": [
    {
     "data": {
      "text/plain": [
       "1.0"
      ]
     },
     "execution_count": 36,
     "metadata": {},
     "output_type": "execute_result"
    }
   ],
   "source": [
    "note_duration(1/4, 1/4, 60)"
   ]
  },
  {
   "cell_type": "code",
   "execution_count": null,
   "metadata": {},
   "outputs": [],
   "source": []
  }
 ],
 "metadata": {
  "kernelspec": {
   "display_name": "Python 3",
   "language": "python",
   "name": "python3"
  },
  "language_info": {
   "codemirror_mode": {
    "name": "ipython",
    "version": 3
   },
   "file_extension": ".py",
   "mimetype": "text/x-python",
   "name": "python",
   "nbconvert_exporter": "python",
   "pygments_lexer": "ipython3",
   "version": "3.6.7"
  }
 },
 "nbformat": 4,
 "nbformat_minor": 2
}
